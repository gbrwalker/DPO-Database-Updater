{
  "nbformat": 4,
  "nbformat_minor": 5,
  "metadata": {},
  "cells": [
    {
      "id": "1f12fab6",
      "cell_type": "markdown",
      "source": "# Atualizar_Gasola.ipynb\nEste notebook conecta na API do Gasola e atualiza os abastecimentos no Excel no Google Drive.",
      "metadata": {}
    },
    {
      "id": "08b2d582",
      "cell_type": "code",
      "metadata": {},
      "execution_count": null,
      "source": "import requests\nimport pandas as pd\nimport datetime as dt\nfrom google.colab import drive\nimport os\n\n# CONFIGURA\u00c7\u00d5ES (substitua pelo seu token)\nBASE_URL = \"https://api.gasola.net\"\nENDPOINT = \"/v1/integration/report/supply\"\nTOKEN = \"SEU_TOKEN_AQUI\"  # substitua manualmente\n\nPASTA_DRIVE = \"/content/drive/My Drive/DATABASE_FROTA\"\nARQUIVO_DB = \"DATABASE_GASOLA.xlsx\"\nABA_DB = \"Gasola\"\n\n# Fun\u00e7\u00f5es e pipeline seriam implementados aqui...",
      "outputs": []
    }
  ]
}