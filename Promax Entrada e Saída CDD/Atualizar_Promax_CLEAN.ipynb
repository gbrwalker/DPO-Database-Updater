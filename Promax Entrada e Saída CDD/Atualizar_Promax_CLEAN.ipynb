# === ATUALIZAR PROMAX ===
# Este notebook conecta-se ao sistema Promax para obter relatórios operacionais
# e atualizar uma planilha Excel no Google Drive.
#
# Para usar:
# - Substitua SEU_TOKEN_AQUI pelas credenciais corretas
# - Substitua URL_DA_API_AQUI e ENDPOINT_AQUI conforme documentação do sistema
# - Configure o diretório do Google Drive (PASTA_DRIVE)
# - Execute o pipeline para atualizar os dados

import requests
import pandas as pd
from google.colab import drive
import os

# === CONFIGURAÇÕES ===
BASE_URL = "URL_DA_API_AQUI"
ENDPOINT = "ENDPOINT_AQUI"
TOKEN = "SEU_TOKEN_AQUI"

PASTA_DRIVE = "/content/drive/My Drive/SEU_DIRETORIO"
ARQUIVO_DB = "DATABASE_PROMAX.xlsx"
ABA_DB = "NOME_DA_ABA"

# === HEADERS ===
def montar_headers():
    return {
        "Authorization": TOKEN,
        "Content-Type": "application/json"
    }

# === REQUISIÇÃO SEGURA ===
def requisicao_segura(url, headers):
    try:
        resp = requests.get(url, headers=headers, timeout=120)
        resp.raise_for_status()
        return resp.json()
    except requests.exceptions.RequestException as e:
        print(f"Erro na requisição: {e}")
        return []

# === TRANSFORMAR JSON NO FORMATO FINAL ===
def json_para_df_final(dados):
    if not dados:
        print("Nenhum dado recebido da API.")
        return pd.DataFrame()

    df = pd.json_normalize(dados)
    # Ajustar colunas conforme estrutura do Promax
    return df

# === MONTAR DRIVE ===
def montar_drive():
    print("Montando Google Drive...")
    try:
        drive.mount('/content/drive', force_remount=False)
        if not os.path.exists(PASTA_DRIVE):
            os.makedirs(PASTA_DRIVE)
        print(f"Pasta do Drive pronta: {PASTA_DRIVE}")
    except Exception as e:
        print("Erro ao montar o Google Drive:", e)

# === ATUALIZAR BANCO DE DADOS ===
def atualizar_db(novos_df):
    if novos_df.empty:
        print("Nenhum dado novo para atualizar no DB.")
        return

    caminho = os.path.join(PASTA_DRIVE, ARQUIVO_DB)

    if os.path.exists(caminho):
        print(f"Lendo banco existente: {caminho}")
        try:
            antigo = pd.read_excel(caminho, sheet_name=ABA_DB)
            combinado = pd.concat([antigo, novos_df], ignore_index=True)
            combinado = combinado.drop_duplicates()
        except Exception as e:
            print("Erro ao ler ou processar o banco existente:", e)
            combinado = novos_df
    else:
        print("Banco não encontrado, criando novo arquivo.")
        combinado = novos_df

    print("Atualizando arquivo do banco de dados...")
    try:
        with pd.ExcelWriter(caminho, engine="openpyxl", mode="w") as writer:
            combinado.to_excel(writer, sheet_name=ABA_DB, index=False)
        print(f"Arquivo atualizado: {caminho}")
    except Exception as e:
        print("Erro ao escrever no arquivo do banco de dados:", e)

# === PIPELINE ===
def pipeline():
    montar_drive()
    url = f"{BASE_URL}{ENDPOINT}"
    dados = requisicao_segura(url, montar_headers())
    novos_df = json_para_df_final(dados)
    atualizar_db(novos_df)

# Executar pipeline
pipeline()
