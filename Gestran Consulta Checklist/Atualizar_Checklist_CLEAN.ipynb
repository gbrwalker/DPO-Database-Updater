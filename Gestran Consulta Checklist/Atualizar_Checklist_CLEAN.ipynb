{
  "nbformat": 4,
  "nbformat_minor": 5,
  "metadata": {},
  "cells": [
    {
      "id": "03cd1482",
      "cell_type": "markdown",
      "source": "# Atualizar_Checklist.ipynb\nEste notebook atualiza o checklist de inspe\u00e7\u00f5es da frota em Excel no Google Drive.",
      "metadata": {}
    },
    {
      "id": "a38099c8",
      "cell_type": "code",
      "metadata": {},
      "execution_count": null,
      "source": "import pandas as pd\nfrom google.colab import drive\nimport os\n\n# CONFIGURA\u00c7\u00d5ES\nPASTA_DRIVE = \"/content/drive/My Drive/DATABASE_CHECKLIST\"\nARQUIVO_DB = \"DATABASE_CHECKLIST.xlsx\"\n\n# Fun\u00e7\u00f5es e pipeline seriam implementados aqui...",
      "outputs": []
    }
  ]
}